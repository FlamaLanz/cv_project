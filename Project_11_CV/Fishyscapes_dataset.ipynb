{
  "nbformat": 4,
  "nbformat_minor": 0,
  "metadata": {
    "colab": {
      "provenance": []
    },
    "kernelspec": {
      "name": "python3",
      "display_name": "Python 3"
    },
    "language_info": {
      "name": "python"
    }
  },
  "cells": [
    {
      "cell_type": "markdown",
      "source": [
        "FishyScapes DATASET Computation.\n",
        "This notebook computes the dataset composed of the images and the masks.\n",
        "\n",
        "The starter images were taken from the Cityscapes dataset to which it was applied a .png image of an anomaly."
      ],
      "metadata": {
        "id": "lKfrfCbZD8Yo"
      }
    },
    {
      "cell_type": "code",
      "source": [
        "from google.colab import drive\n",
        "\n",
        "drive.mount('/content/drive')\n"
      ],
      "metadata": {
        "colab": {
          "base_uri": "https://localhost:8080/"
        },
        "id": "ipJl9Jb30UYt",
        "outputId": "b38885a0-afcd-4c88-c6a4-ad046f192042"
      },
      "execution_count": null,
      "outputs": [
        {
          "output_type": "stream",
          "name": "stdout",
          "text": [
            "Mounted at /content/drive\n"
          ]
        }
      ]
    },
    {
      "cell_type": "code",
      "source": [
        "!pip install -U gdown\n",
        "!gdown --folder https://drive.google.com/drive/folders/1f8Pxl8iGoRym0cagDvaweP3lbBNO2tuk?usp=sharing -O /content/cityscape --fuzzy"
      ],
      "metadata": {
        "colab": {
          "base_uri": "https://localhost:8080/"
        },
        "id": "7jTL90VXjI8u",
        "outputId": "4d698624-7511-4bea-cdb8-301b18c58f5d"
      },
      "execution_count": null,
      "outputs": [
        {
          "output_type": "stream",
          "name": "stdout",
          "text": [
            "Requirement already satisfied: gdown in /usr/local/lib/python3.11/dist-packages (5.2.0)\n",
            "Requirement already satisfied: beautifulsoup4 in /usr/local/lib/python3.11/dist-packages (from gdown) (4.13.4)\n",
            "Requirement already satisfied: filelock in /usr/local/lib/python3.11/dist-packages (from gdown) (3.18.0)\n",
            "Requirement already satisfied: requests[socks] in /usr/local/lib/python3.11/dist-packages (from gdown) (2.32.3)\n",
            "Requirement already satisfied: tqdm in /usr/local/lib/python3.11/dist-packages (from gdown) (4.67.1)\n",
            "Requirement already satisfied: soupsieve>1.2 in /usr/local/lib/python3.11/dist-packages (from beautifulsoup4->gdown) (2.7)\n",
            "Requirement already satisfied: typing-extensions>=4.0.0 in /usr/local/lib/python3.11/dist-packages (from beautifulsoup4->gdown) (4.14.1)\n",
            "Requirement already satisfied: charset-normalizer<4,>=2 in /usr/local/lib/python3.11/dist-packages (from requests[socks]->gdown) (3.4.2)\n",
            "Requirement already satisfied: idna<4,>=2.5 in /usr/local/lib/python3.11/dist-packages (from requests[socks]->gdown) (3.10)\n",
            "Requirement already satisfied: urllib3<3,>=1.21.1 in /usr/local/lib/python3.11/dist-packages (from requests[socks]->gdown) (2.4.0)\n",
            "Requirement already satisfied: certifi>=2017.4.17 in /usr/local/lib/python3.11/dist-packages (from requests[socks]->gdown) (2025.7.9)\n",
            "Requirement already satisfied: PySocks!=1.5.7,>=1.5.6 in /usr/local/lib/python3.11/dist-packages (from requests[socks]->gdown) (1.7.1)\n",
            "Retrieving folder contents\n",
            "Processing file 1vKuWcc66WqiIGUPDVaha7C8w1sd13G_a gtFine.zip\n",
            "Processing file 1itO7zdz4jaPL6OjuG5FvV-9tFECrdbj4 leftImg8bit.zip\n",
            "Retrieving folder contents completed\n",
            "Building directory structure\n",
            "Building directory structure completed\n",
            "Downloading...\n",
            "From (original): https://drive.google.com/uc?id=1vKuWcc66WqiIGUPDVaha7C8w1sd13G_a\n",
            "From (redirected): https://drive.google.com/uc?id=1vKuWcc66WqiIGUPDVaha7C8w1sd13G_a&confirm=t&uuid=cd6cf94c-e9a9-44c1-9ad9-8fd697bf9636\n",
            "To: /content/cityscape/gtFine.zip\n",
            "100% 261M/261M [00:04<00:00, 57.5MB/s]\n",
            "Downloading...\n",
            "From (original): https://drive.google.com/uc?id=1itO7zdz4jaPL6OjuG5FvV-9tFECrdbj4\n",
            "From (redirected): https://drive.google.com/uc?id=1itO7zdz4jaPL6OjuG5FvV-9tFECrdbj4&confirm=t&uuid=52b501f4-d78d-44ee-a0d8-2303cf6862d1\n",
            "To: /content/cityscape/leftImg8bit.zip\n",
            "100% 11.6G/11.6G [02:34<00:00, 75.0MB/s]\n",
            "Download completed\n"
          ]
        }
      ]
    },
    {
      "cell_type": "code",
      "source": [
        "!ls /content/cityscape"
      ],
      "metadata": {
        "colab": {
          "base_uri": "https://localhost:8080/"
        },
        "id": "ERb47qJwjbCm",
        "outputId": "984a71c2-1f42-4881-effc-00ed5a0163a6"
      },
      "execution_count": null,
      "outputs": [
        {
          "output_type": "stream",
          "name": "stdout",
          "text": [
            "gtFine.zip  leftImg8bit.zip\n"
          ]
        }
      ]
    },
    {
      "cell_type": "code",
      "source": [
        "import zipfile\n",
        "\n",
        "zip_gt = \"/content/cityscape/gtFine.zip\"\n",
        "zip_img = \"/content/cityscape/leftImg8bit.zip\"\n",
        "\n",
        "\n",
        "with zipfile.ZipFile(zip_gt, 'r') as zip_ref:\n",
        "    zip_ref.extractall(\"/content/cityscape\")\n",
        "\n",
        "with zipfile.ZipFile(zip_img, 'r') as zip_ref:\n",
        "    zip_ref.extractall(\"/content/cityscape\")"
      ],
      "metadata": {
        "id": "_zlVumNvjbgg"
      },
      "execution_count": null,
      "outputs": []
    },
    {
      "cell_type": "code",
      "source": [
        "import os\n",
        "import shutil\n",
        "from glob import glob\n",
        "\n",
        "# Directory of Cityscapes images and masks\n",
        "img_dir = '/content/cityscape/leftImg8bit/train'\n",
        "mask_dir = '/content/cityscape/gtFine/train'\n",
        "\n",
        "# Destination Directory\n",
        "save_images_dir = '/content/cityscape_sample/images'\n",
        "save_masks_dir  = '/content/cityscape_sample/masks'\n",
        "\n",
        "os.makedirs(save_images_dir, exist_ok=True)\n",
        "os.makedirs(save_masks_dir, exist_ok=True)\n",
        "\n",
        "#Find all 'train' images\n",
        "image_paths = sorted(glob(os.path.join(img_dir, '*', '*_leftImg8bit.png')))\n",
        "\n",
        "#Taking only the first 50 images\n",
        "selected_images = image_paths[:50]\n",
        "\n",
        "for i, img_path in enumerate(selected_images):\n",
        "\n",
        "    city = os.path.basename(os.path.dirname(img_path))\n",
        "    filename_base = os.path.basename(img_path).replace('_leftImg8bit.png', '')\n",
        "\n",
        "    mask_path = os.path.join(mask_dir, city, f\"{filename_base}_gtFine_labelIds.png\")\n",
        "\n",
        "    # Copying the image\n",
        "    shutil.copy(img_path, os.path.join(save_images_dir, f\"image_{i:03}.png\"))\n",
        "\n",
        "    # Copying the corresponding mask\n",
        "    if os.path.exists(mask_path):\n",
        "        shutil.copy(mask_path, os.path.join(save_masks_dir, f\"mask_{i:03}.png\"))\n",
        "    else:\n",
        "        print(f\"ATTENTION: mask missing for {img_path}\")\n",
        "\n",
        "print(\"Operazione completata: 50 immagini e maschere salvate.\")\n"
      ],
      "metadata": {
        "colab": {
          "base_uri": "https://localhost:8080/"
        },
        "id": "XaihFMIzjmfl",
        "outputId": "e3aeb465-250a-406a-9ffe-c5e9bb0abe68"
      },
      "execution_count": null,
      "outputs": [
        {
          "output_type": "stream",
          "name": "stdout",
          "text": [
            "Operazione completata: 50 immagini e maschere salvate.\n"
          ]
        }
      ]
    },
    {
      "cell_type": "code",
      "source": [
        "!pip install pillow\n"
      ],
      "metadata": {
        "colab": {
          "base_uri": "https://localhost:8080/"
        },
        "id": "OHmWq1t50zjb",
        "outputId": "8fd9e141-667a-4f61-f065-8b0340026a65"
      },
      "execution_count": null,
      "outputs": [
        {
          "output_type": "stream",
          "name": "stdout",
          "text": [
            "Requirement already satisfied: pillow in /usr/local/lib/python3.11/dist-packages (11.2.1)\n"
          ]
        }
      ]
    },
    {
      "cell_type": "code",
      "source": [
        "import os\n",
        "import random\n",
        "from PIL import Image\n",
        "import numpy as np\n",
        "\n",
        "anomaly_dir = \"/content/drive/MyDrive/gif\"\n",
        "output_img_dir = \"/content/drive/MyDrive/fishyscapes_2/images\"\n",
        "output_mask_dir = \"/content/drive/MyDrive/fishyscapes_2/masks\"\n",
        "os.makedirs(output_img_dir, exist_ok=True)\n",
        "os.makedirs(output_mask_dir, exist_ok=True)\n",
        "\n",
        "img_dir_sample = \"/content/cityscape_sample/images\"\n",
        "anomaly_paths = sorted(os.listdir(anomaly_dir))\n",
        "img_paths = sorted(os.listdir(img_dir_sample))\n",
        "assert len(img_paths) == 50\n",
        "\n",
        "for i in range(50):\n",
        "    img = Image.open(os.path.join(img_dir_sample, img_paths[i])).convert(\"RGBA\")\n",
        "    W, H = img.size\n",
        "\n",
        "    mask_rgb = np.zeros((H, W, 3), dtype=np.uint8)\n",
        "\n",
        "    anomaly = Image.open(os.path.join(anomaly_dir, random.choice(anomaly_paths))).convert(\"RGBA\")\n",
        "    w, h = anomaly.size\n",
        "\n",
        "    scale_factor = (min(W, H) // 2) / max(w, h)\n",
        "    anomaly = anomaly.resize((int(w * scale_factor), int(h * scale_factor)), Image.Resampling.LANCZOS)\n",
        "    w, h = anomaly.size\n",
        "\n",
        "    x = random.randint(0, W - w)\n",
        "\n",
        "    # Positioning the .png in the lower half of the image with a margin of 10%\n",
        "    bottom_margin = int(H * 0.10)\n",
        "    y_max = H - h - bottom_margin\n",
        "    y_min = max(int(H * 0.75), 0)\n",
        "    if y_max < y_min:\n",
        "        y_min = y_max = max(H - h - bottom_margin, 0)\n",
        "    y = random.randint(y_min, y_max)\n",
        "\n",
        "    img.paste(anomaly, (x, y), anomaly)\n",
        "    alpha = np.array(anomaly.split()[-1])\n",
        "\n",
        "    color = np.array([255, 0, 0], dtype=np.uint8)\n",
        "    mask_slice = mask_rgb[y:y + h, x:x + w]\n",
        "    mask_slice[alpha > 0] = color\n",
        "\n",
        "    img.save(os.path.join(output_img_dir, f\"image_{i:03}.png\"))\n",
        "    Image.fromarray(mask_rgb).save(os.path.join(output_mask_dir, f\"mask_{i:03}.png\"))\n"
      ],
      "metadata": {
        "id": "byNdPWIy7lxb"
      },
      "execution_count": null,
      "outputs": []
    }
  ]
}